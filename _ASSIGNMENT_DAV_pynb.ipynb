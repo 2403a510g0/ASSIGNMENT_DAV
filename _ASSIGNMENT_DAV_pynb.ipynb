{
  "nbformat": 4,
  "nbformat_minor": 0,
  "metadata": {
    "colab": {
      "provenance": []
    },
    "kernelspec": {
      "name": "python3",
      "display_name": "Python 3"
    },
    "language_info": {
      "name": "python"
    }
  },
  "cells": [
    {
      "cell_type": "code",
      "execution_count": null,
      "metadata": {
        "id": "CNjLE-2bx9rA"
      },
      "outputs": [],
      "source": []
    },
    {
      "cell_type": "code",
      "source": [
        "import pandas as pd\n",
        "\n",
        "data = {\n",
        "    \"NAME\": [\"ALAN\", \"MATT\", \"CHAD\", \"TYLER\", \"EMMA\"],\n",
        "    \"AGE\": [25, None, 30, 40, None],\n",
        "    \"CITY\": [\"NEW YORK\", \"LONDON\", None, \"PARIS\", \"BERLIN\"],\n",
        "    \"SALARY\": [50000, 60000, None, 80000, 90000]\n",
        "}\n",
        "\n",
        "df = pd.DataFrame(data)\n",
        "print(df)\n"
      ],
      "metadata": {
        "colab": {
          "base_uri": "https://localhost:8080/"
        },
        "id": "E23ydDWNyDGm",
        "outputId": "78ef39cd-6df6-492c-f562-c4fde6f40490"
      },
      "execution_count": 68,
      "outputs": [
        {
          "output_type": "stream",
          "name": "stdout",
          "text": [
            "    NAME   AGE      CITY   SALARY\n",
            "0   ALAN  25.0  NEW YORK  50000.0\n",
            "1   MATT   NaN    LONDON  60000.0\n",
            "2   CHAD  30.0      None      NaN\n",
            "3  TYLER  40.0     PARIS  80000.0\n",
            "4   EMMA   NaN    BERLIN  90000.0\n"
          ]
        }
      ]
    },
    {
      "cell_type": "code",
      "source": [
        "import pandas as pd\n",
        "#to check the null values through boolean#\n",
        "\n",
        "data = {\n",
        "    \"NAME\": [\"ALAN\", \"MATT\", \"CHAD\", \"TYLER\", \"EMMA\"],\n",
        "    \"AGE\": [25, None, 30, 40, None],   # fixed NONE → None\n",
        "    \"CITY\": [\"NEW YORK\", \"LONDON\", None, \"PARIS\", \"BERLIN\"],\n",
        "    \"SALARY\": [50000, 60000, None, 80000, 90000]\n",
        "}\n",
        "\n",
        "df=df.isnull()\n",
        "\n",
        "print(df)\n"
      ],
      "metadata": {
        "colab": {
          "base_uri": "https://localhost:8080/"
        },
        "outputId": "2112e61d-200c-44bd-b826-a1ffdcaf45e1",
        "id": "jKkTA_pc0_Br"
      },
      "execution_count": 69,
      "outputs": [
        {
          "output_type": "stream",
          "name": "stdout",
          "text": [
            "    NAME    AGE   CITY  SALARY\n",
            "0  False  False  False   False\n",
            "1  False   True  False   False\n",
            "2  False  False   True    True\n",
            "3  False  False  False   False\n",
            "4  False   True  False   False\n"
          ]
        }
      ]
    },
    {
      "cell_type": "markdown",
      "source": [
        "\n",
        "\n",
        "> Add blockquote\n",
        "\n"
      ],
      "metadata": {
        "id": "PTuOp4b3yHXj"
      }
    },
    {
      "cell_type": "code",
      "source": [
        "import pandas as pd\n",
        "#TO fill up the null values\n",
        "\n",
        "data = {\n",
        "    \"NAME\": [\"ALAN\", \"MATT\", \"CHAD\", \"TYLER\", \"EMMA\"],\n",
        "    \"AGE\": [25, None, 30, 40, None],\n",
        "    \"CITY\": [\"NEW YORK\", \"LONDON\", None, \"PARIS\", \"BERLIN\"],\n",
        "    \"SALARY\": [50000, 60000, None, 80000, 90000]\n",
        "}\n",
        "\n",
        "df = pd.DataFrame(data)\n",
        "\n",
        "df[\"AGE\"].fillna(df[\"AGE\"].mean(), inplace=True)\n",
        "\n",
        "df[\"SALARY\"].fillna(df[\"SALARY\"].mean(), inplace=True)\n",
        "\n",
        "print(df)\n"
      ],
      "metadata": {
        "colab": {
          "base_uri": "https://localhost:8080/"
        },
        "id": "DPaRrKPs1z2a",
        "outputId": "0f9ccc88-e59c-4179-82d7-74243fe97714"
      },
      "execution_count": 70,
      "outputs": [
        {
          "output_type": "stream",
          "name": "stdout",
          "text": [
            "    NAME        AGE      CITY   SALARY\n",
            "0   ALAN  25.000000  NEW YORK  50000.0\n",
            "1   MATT  31.666667    LONDON  60000.0\n",
            "2   CHAD  30.000000      None  70000.0\n",
            "3  TYLER  40.000000     PARIS  80000.0\n",
            "4   EMMA  31.666667    BERLIN  90000.0\n"
          ]
        },
        {
          "output_type": "stream",
          "name": "stderr",
          "text": [
            "/tmp/ipython-input-3691738726.py:13: FutureWarning: A value is trying to be set on a copy of a DataFrame or Series through chained assignment using an inplace method.\n",
            "The behavior will change in pandas 3.0. This inplace method will never work because the intermediate object on which we are setting values always behaves as a copy.\n",
            "\n",
            "For example, when doing 'df[col].method(value, inplace=True)', try using 'df.method({col: value}, inplace=True)' or df[col] = df[col].method(value) instead, to perform the operation inplace on the original object.\n",
            "\n",
            "\n",
            "  df[\"AGE\"].fillna(df[\"AGE\"].mean(), inplace=True)\n",
            "/tmp/ipython-input-3691738726.py:15: FutureWarning: A value is trying to be set on a copy of a DataFrame or Series through chained assignment using an inplace method.\n",
            "The behavior will change in pandas 3.0. This inplace method will never work because the intermediate object on which we are setting values always behaves as a copy.\n",
            "\n",
            "For example, when doing 'df[col].method(value, inplace=True)', try using 'df.method({col: value}, inplace=True)' or df[col] = df[col].method(value) instead, to perform the operation inplace on the original object.\n",
            "\n",
            "\n",
            "  df[\"SALARY\"].fillna(df[\"SALARY\"].mean(), inplace=True)\n"
          ]
        }
      ]
    },
    {
      "cell_type": "code",
      "source": [
        "import pandas as pd\n",
        "data = {\n",
        "    \"NAME\": [\"ALAN\", \"MATT\", \"CHAD\", \"TYLER\", \"EMMA\"],\n",
        "    \"AGE\": [25, None, 30, 40, None],\n",
        "    \"CITY\": [\"NEW YORK\", \"LONDON\", None, \"PARIS\", \"BERLIN\"],\n",
        "    \"SALARY\": [50000, 60000, None, 80000, 90000]\n",
        "}\n",
        "\n",
        "df = pd.DataFrame(data)\n",
        "\n",
        "df = df.dropna(subset=[\"SALARY\"])\n",
        "\n",
        "print(df)\n"
      ],
      "metadata": {
        "colab": {
          "base_uri": "https://localhost:8080/"
        },
        "id": "iIiEnx_d460Y",
        "outputId": "f4f7ab05-f6f6-4494-99d7-87f003944862"
      },
      "execution_count": 71,
      "outputs": [
        {
          "output_type": "stream",
          "name": "stdout",
          "text": [
            "    NAME   AGE      CITY   SALARY\n",
            "0   ALAN  25.0  NEW YORK  50000.0\n",
            "1   MATT   NaN    LONDON  60000.0\n",
            "3  TYLER  40.0     PARIS  80000.0\n",
            "4   EMMA   NaN    BERLIN  90000.0\n"
          ]
        }
      ]
    },
    {
      "cell_type": "code",
      "source": [
        "import pandas as pd\n",
        "data = {\n",
        "    \"NAME\": [\"ALAN\", \"MATT\", \"CHAD\", \"TYLER\", \"EMMA\"],\n",
        "    \"AGE\": [26, 30, 25, 25, 40],\n",
        "    \"CITY\": [\"NEW YORK\", \"LONDON\", None, \"PARIS\", \"BERLIN\"],\n",
        "    \"SALARY\": [50000, 60000, None, 80000, 90000]\n",
        "}\n",
        "\n",
        "df = pd.DataFrame(data)\n",
        "df=df.drop_duplicates(\"AGE\")\n",
        "print(df)"
      ],
      "metadata": {
        "colab": {
          "base_uri": "https://localhost:8080/"
        },
        "id": "xrPI34_r5YkM",
        "outputId": "44e7f8e1-55b9-4f3f-bd16-896105246e61"
      },
      "execution_count": 72,
      "outputs": [
        {
          "output_type": "stream",
          "name": "stdout",
          "text": [
            "   NAME  AGE      CITY   SALARY\n",
            "0  ALAN   26  NEW YORK  50000.0\n",
            "1  MATT   30    LONDON  60000.0\n",
            "2  CHAD   25      None      NaN\n",
            "4  EMMA   40    BERLIN  90000.0\n"
          ]
        }
      ]
    },
    {
      "cell_type": "code",
      "source": [
        "import pandas as pd\n",
        "data = {\n",
        "    \"NAME\": [\"ALAN\", \"MATT\", \"CHAD\", \"TYLER\", \"EMMA\"],\n",
        "    \"AGE\": [26, 30, 25, 25, 40],\n",
        "    \"CITY\": [\"NEW YORK\", \"LONDON\", None, \"PARIS\", \"BERLIN\"],\n",
        "    \"SALARY\": [50000, 60000, None, 80000, 90000]\n",
        "}\n",
        "\n",
        "df = pd.DataFrame(data)\n",
        "\n",
        "print(df.duplicated(subset=[\"AGE\"]))\n",
        "\n",
        "\n"
      ],
      "metadata": {
        "colab": {
          "base_uri": "https://localhost:8080/"
        },
        "id": "CpjAOQnt6nXS",
        "outputId": "db6872eb-2f37-47d7-ccf3-8e2aa24effc8"
      },
      "execution_count": 73,
      "outputs": [
        {
          "output_type": "stream",
          "name": "stdout",
          "text": [
            "0    False\n",
            "1    False\n",
            "2    False\n",
            "3     True\n",
            "4    False\n",
            "dtype: bool\n"
          ]
        }
      ]
    },
    {
      "cell_type": "code",
      "source": [
        "import pandas as pd\n",
        "data = {\n",
        "    \"NAME\": [\"ALAN\", \"MATT\", \"CHAD\", \"TYLER\", \"EMMA\"],\n",
        "    \"AGE\": [26, 30, 25, 25, 40],\n",
        "    \"CITY\": [\"NEW YORK\", \"LONDON\", None, \"PARIS\", \"BERLIN\"],\n",
        "    \"SALARY\": [50000, 60000, None, 80000, 90000]\n",
        "}\n",
        "df = pd.DataFrame(data)\n",
        "\n",
        "df = df.rename(columns={\"NAME\":  \"Employee_Name\", \"AGE\":  \"Employee_Age\"})\n",
        "\n",
        "print(df)\n"
      ],
      "metadata": {
        "colab": {
          "base_uri": "https://localhost:8080/"
        },
        "id": "NU5chLra78nZ",
        "outputId": "68b6064a-6d62-4b70-ed78-eee10a558152"
      },
      "execution_count": 74,
      "outputs": [
        {
          "output_type": "stream",
          "name": "stdout",
          "text": [
            "  Employee_Name  Employee_Age      CITY   SALARY\n",
            "0          ALAN            26  NEW YORK  50000.0\n",
            "1          MATT            30    LONDON  60000.0\n",
            "2          CHAD            25      None      NaN\n",
            "3         TYLER            25     PARIS  80000.0\n",
            "4          EMMA            40    BERLIN  90000.0\n"
          ]
        }
      ]
    },
    {
      "cell_type": "code",
      "source": [
        "import pandas as pd\n",
        "data = {\n",
        "    \"NAME\": [\"ALAN\", \"MATT\", \"CHAD\", \"TYLER\", \"EMMA\"],\n",
        "    \"AGE\": [26, 30, 25, 25, 40],\n",
        "    \"CITY\": [\"NEW YORK\", \"LONDON\", None, \"PARIS\", \"BERLIN\"],\n",
        "    \"SALARY\": [50000, 60000, None, 80000, 90000]\n",
        "}\n",
        "\n",
        "df = pd.DataFrame(data)\n",
        "df[\"AGE\"] = df[\"AGE\"].astype(float)\n",
        "\n",
        "print(df)\n"
      ],
      "metadata": {
        "colab": {
          "base_uri": "https://localhost:8080/"
        },
        "id": "BjabCQkE85QL",
        "outputId": "fad176ca-aff7-4874-e4d6-eb7788273cea"
      },
      "execution_count": 75,
      "outputs": [
        {
          "output_type": "stream",
          "name": "stdout",
          "text": [
            "    NAME   AGE      CITY   SALARY\n",
            "0   ALAN  26.0  NEW YORK  50000.0\n",
            "1   MATT  30.0    LONDON  60000.0\n",
            "2   CHAD  25.0      None      NaN\n",
            "3  TYLER  25.0     PARIS  80000.0\n",
            "4   EMMA  40.0    BERLIN  90000.0\n"
          ]
        }
      ]
    },
    {
      "cell_type": "code",
      "source": [
        "import pandas as pd\n",
        "data = {\n",
        "    \"NAME\": [\"ALAN\", \"MATT\", \"CHAD\", \"TYLER\", \"EMMA\"],\n",
        "    \"AGE\": [26, 30, 25, 25, 40],\n",
        "    \"CITY\": [\"NEW YORK\", \"LONDON\", None, \"PARIS\", \"BERLIN\"],\n",
        "    \"SALARY\": [110000, 40000, None, 80000, 90000]\n",
        "}\n",
        "\n",
        "df = pd.DataFrame(data)\n",
        "df_filtered = df[df[\"SALARY\"] > 60000]\n",
        "print(df_filtered)\n"
      ],
      "metadata": {
        "colab": {
          "base_uri": "https://localhost:8080/"
        },
        "id": "oEmyV_6Q94LI",
        "outputId": "235a8e0f-0e14-4141-e1d5-24865519525f"
      },
      "execution_count": 76,
      "outputs": [
        {
          "output_type": "stream",
          "name": "stdout",
          "text": [
            "    NAME  AGE      CITY    SALARY\n",
            "0   ALAN   26  NEW YORK  110000.0\n",
            "3  TYLER   25     PARIS   80000.0\n",
            "4   EMMA   40    BERLIN   90000.0\n"
          ]
        }
      ]
    },
    {
      "cell_type": "code",
      "source": [
        "import pandas as pd\n",
        "data = {\n",
        "    \"NAME\": [\"ALAN\", \"MATT\", \"CHAD\", \"TYLER\", \"EMMA\"],\n",
        "    \"AGE\": [26, 30, 25, 25, 40],\n",
        "    \"CITY\": [\"NEW YORK\", \"LONDON\", None, \"PARIS\", \"BERLIN\"],\n",
        "    \"SALARY\": [110000, 40000, None, 80000, 90000]\n",
        "}\n",
        "\n",
        "df = pd.DataFrame(data)\n",
        "df['Bonus'] = df['SALARY'] * 0.10\n",
        "print(df)"
      ],
      "metadata": {
        "colab": {
          "base_uri": "https://localhost:8080/"
        },
        "id": "art4o8K0-fPG",
        "outputId": "339b42df-c9ff-4e8c-f81a-174b62389236"
      },
      "execution_count": 77,
      "outputs": [
        {
          "output_type": "stream",
          "name": "stdout",
          "text": [
            "    NAME  AGE      CITY    SALARY    Bonus\n",
            "0   ALAN   26  NEW YORK  110000.0  11000.0\n",
            "1   MATT   30    LONDON   40000.0   4000.0\n",
            "2   CHAD   25      None       NaN      NaN\n",
            "3  TYLER   25     PARIS   80000.0   8000.0\n",
            "4   EMMA   40    BERLIN   90000.0   9000.0\n"
          ]
        }
      ]
    },
    {
      "cell_type": "code",
      "source": [
        "import pandas as pd\n",
        "data = {\n",
        "    \"NAME\": [\"ALAN\", \"MATT\", \"CHAD\", \"TYLER\", \"EMMA\"],\n",
        "    \"AGE\": [26, 30, 25, 25, 40],\n",
        "    \"CITY\": [\"NEW YORK\", \"LONDON\", None, \"PARIS\", \"BERLIN\"],\n",
        "    \"SALARY\": [110000, 40000, None, 80000, 90000]\n",
        "}\n",
        "\n",
        "df = pd.DataFrame(data)\n",
        "import pandas as pd\n",
        "data = {\n",
        "    \"NAME\": [\"ALICE\", \"BOB\", \"CHARLIE\", \"DAVID\", \"EVE\"],\n",
        "    \"AGE\": [26, 30, 25, 25, 40],\n",
        "    \"CITY\": [\"NEW YORK\", \"LONDON\", None, \"PARIS\", \"BERLIN\"],\n",
        "    \"SALARY\": [110000, 40000, None, 80000, 90000]\n",
        "}\n",
        "\n",
        "df = pd.DataFrame(data)\n",
        "df = df.sort_values(by='SALARY', ascending=False)\n",
        "print(df)"
      ],
      "metadata": {
        "colab": {
          "base_uri": "https://localhost:8080/"
        },
        "id": "lmnyriGQ-5iW",
        "outputId": "26c0c845-ab1e-44fb-aac4-ddf5b4d3c803"
      },
      "execution_count": 78,
      "outputs": [
        {
          "output_type": "stream",
          "name": "stdout",
          "text": [
            "      NAME  AGE      CITY    SALARY\n",
            "0    ALICE   26  NEW YORK  110000.0\n",
            "4      EVE   40    BERLIN   90000.0\n",
            "3    DAVID   25     PARIS   80000.0\n",
            "1      BOB   30    LONDON   40000.0\n",
            "2  CHARLIE   25      None       NaN\n"
          ]
        }
      ]
    },
    {
      "cell_type": "code",
      "source": [
        "import pandas as pd\n",
        "data = {\n",
        "    \"NAME\": [\"ALAN\", \"MATT\", \"CHAD\", \"TYLER\", \"EMMA\"],\n",
        "    \"AGE\": [26, 30, 25, 25, 40],\n",
        "    \"CITY\": [\"NEW YORK\", \"LONDON\", None, \"PARIS\", \"BERLIN\"],\n",
        "    \"SALARY\": [110000, 40000, None, 80000, 90000]\n",
        "}\n",
        "\n",
        "\n",
        "\n",
        "df = pd.DataFrame(data)\n",
        "df_group = df.groupby('CITY')['SALARY'].mean()\n",
        "print(df_group)\n"
      ],
      "metadata": {
        "colab": {
          "base_uri": "https://localhost:8080/"
        },
        "id": "DtBWSH51_NuP",
        "outputId": "93b2a87d-5a92-427f-a136-482368ca15e5"
      },
      "execution_count": 80,
      "outputs": [
        {
          "output_type": "stream",
          "name": "stdout",
          "text": [
            "CITY\n",
            "BERLIN       90000.0\n",
            "LONDON       40000.0\n",
            "NEW YORK    110000.0\n",
            "PARIS        80000.0\n",
            "Name: SALARY, dtype: float64\n"
          ]
        }
      ]
    }
  ]
}